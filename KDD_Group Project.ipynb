{
 "cells": [
  {
   "cell_type": "markdown",
   "metadata": {
    "id": "B_oMKqZ73-62"
   },
   "source": [
    "\n",
    "## Impact of COVID19 on Mobility to Various Public Places\n",
    "\n",
    "\n",
    "\n"
   ]
  },
  {
   "cell_type": "markdown",
   "metadata": {},
   "source": [
    "### Project Introduction"
   ]
  },
  {
   "cell_type": "markdown",
   "metadata": {},
   "source": [
    "\n",
    "The project focuses on performing Exploratory Data Analysis on the Community Mobility Reports data provided by Google during the pandemic period.We analyse how the mobility of people to various popular public places has changed with respect to number of covid cases registered. We will try to extract various insights such as how the visits and duration of stay at different places changed compared to a baseline. The baseline is considered as the median value for the corresponding day of the 5- week period duration Jan 3–Feb 6, 2020.\n",
    "\n"
   ]
  },
  {
   "cell_type": "markdown",
   "metadata": {},
   "source": [
    "## Data Preparation"
   ]
  },
  {
   "cell_type": "markdown",
   "metadata": {
    "id": "W9uXPA6_4ym0"
   },
   "source": [
    "### Introduction of Data\n",
    "\n",
    "We are performing our research on the data provided by Google that is collected from users who have opted-in to Location History for their Google Account.We are also using data provided by CDC for daily number of COVID Positive cases. We will combine both the datasets in order to perform anaylse on different mobility trends with respect to COVID positive cases."
   ]
  },
  {
   "cell_type": "code",
   "execution_count": 1,
   "metadata": {
    "colab": {
     "base_uri": "https://localhost:8080/"
    },
    "id": "j9RqvmqJcyxz",
    "outputId": "bbe604a8-1267-4461-cb95-f0df00245153"
   },
   "outputs": [],
   "source": [
    "import numpy as np\n",
    "import pandas as pd\n",
    "\n",
    "df_mobility = pd.read_csv('mobility.csv')\n",
    "df_cases = pd.read_csv('cases_cleaned.csv')"
   ]
  },
  {
   "cell_type": "code",
   "execution_count": 2,
   "metadata": {},
   "outputs": [
    {
     "name": "stdout",
     "output_type": "stream",
     "text": [
      "shape of mobility dataset (14280, 9)\n",
      "shape of cases dataset (14280, 16)\n"
     ]
    }
   ],
   "source": [
    "print(\"shape of mobility dataset\",df_mobility.shape)\n",
    "print(\"shape of cases dataset\",df_cases.shape)"
   ]
  },
  {
   "cell_type": "markdown",
   "metadata": {},
   "source": [
    "- Dataset 'mobility' comprises of 14280 observations and 14 features.\n",
    "- Dataset 'cases' comprises of 14280 observations and 16 features."
   ]
  },
  {
   "cell_type": "code",
   "execution_count": 3,
   "metadata": {
    "colab": {
     "base_uri": "https://localhost:8080/",
     "height": 165
    },
    "id": "PIJXpPUIdmvg",
    "outputId": "d0ec93bc-5395-41e5-b79f-e5b06f9b11d1"
   },
   "outputs": [
    {
     "data": {
      "text/html": [
       "<div>\n",
       "<style scoped>\n",
       "    .dataframe tbody tr th:only-of-type {\n",
       "        vertical-align: middle;\n",
       "    }\n",
       "\n",
       "    .dataframe tbody tr th {\n",
       "        vertical-align: top;\n",
       "    }\n",
       "\n",
       "    .dataframe thead th {\n",
       "        text-align: right;\n",
       "    }\n",
       "</style>\n",
       "<table border=\"1\" class=\"dataframe\">\n",
       "  <thead>\n",
       "    <tr style=\"text-align: right;\">\n",
       "      <th></th>\n",
       "      <th>state</th>\n",
       "      <th>iso_code</th>\n",
       "      <th>date</th>\n",
       "      <th>retail_and_recreation</th>\n",
       "      <th>grocery_and_pharmacy</th>\n",
       "      <th>parks</th>\n",
       "      <th>transit_stations</th>\n",
       "      <th>workplaces</th>\n",
       "      <th>residential</th>\n",
       "    </tr>\n",
       "  </thead>\n",
       "  <tbody>\n",
       "    <tr>\n",
       "      <th>0</th>\n",
       "      <td>Alabama</td>\n",
       "      <td>AL</td>\n",
       "      <td>2020-02-15</td>\n",
       "      <td>5.0</td>\n",
       "      <td>2.0</td>\n",
       "      <td>39.0</td>\n",
       "      <td>7.0</td>\n",
       "      <td>2.0</td>\n",
       "      <td>-1.0</td>\n",
       "    </tr>\n",
       "    <tr>\n",
       "      <th>1</th>\n",
       "      <td>Alabama</td>\n",
       "      <td>AL</td>\n",
       "      <td>2020-02-16</td>\n",
       "      <td>0.0</td>\n",
       "      <td>-2.0</td>\n",
       "      <td>-7.0</td>\n",
       "      <td>3.0</td>\n",
       "      <td>-1.0</td>\n",
       "      <td>1.0</td>\n",
       "    </tr>\n",
       "    <tr>\n",
       "      <th>2</th>\n",
       "      <td>Alabama</td>\n",
       "      <td>AL</td>\n",
       "      <td>2020-02-17</td>\n",
       "      <td>3.0</td>\n",
       "      <td>0.0</td>\n",
       "      <td>17.0</td>\n",
       "      <td>7.0</td>\n",
       "      <td>-17.0</td>\n",
       "      <td>4.0</td>\n",
       "    </tr>\n",
       "    <tr>\n",
       "      <th>3</th>\n",
       "      <td>Alabama</td>\n",
       "      <td>AL</td>\n",
       "      <td>2020-02-18</td>\n",
       "      <td>-4.0</td>\n",
       "      <td>-3.0</td>\n",
       "      <td>-11.0</td>\n",
       "      <td>-1.0</td>\n",
       "      <td>1.0</td>\n",
       "      <td>2.0</td>\n",
       "    </tr>\n",
       "    <tr>\n",
       "      <th>4</th>\n",
       "      <td>Alabama</td>\n",
       "      <td>AL</td>\n",
       "      <td>2020-02-19</td>\n",
       "      <td>4.0</td>\n",
       "      <td>1.0</td>\n",
       "      <td>6.0</td>\n",
       "      <td>4.0</td>\n",
       "      <td>1.0</td>\n",
       "      <td>0.0</td>\n",
       "    </tr>\n",
       "  </tbody>\n",
       "</table>\n",
       "</div>"
      ],
      "text/plain": [
       "     state iso_code        date  retail_and_recreation  grocery_and_pharmacy  \\\n",
       "0  Alabama       AL  2020-02-15                    5.0                   2.0   \n",
       "1  Alabama       AL  2020-02-16                    0.0                  -2.0   \n",
       "2  Alabama       AL  2020-02-17                    3.0                   0.0   \n",
       "3  Alabama       AL  2020-02-18                   -4.0                  -3.0   \n",
       "4  Alabama       AL  2020-02-19                    4.0                   1.0   \n",
       "\n",
       "   parks  transit_stations  workplaces  residential  \n",
       "0   39.0               7.0         2.0         -1.0  \n",
       "1   -7.0               3.0        -1.0          1.0  \n",
       "2   17.0               7.0       -17.0          4.0  \n",
       "3  -11.0              -1.0         1.0          2.0  \n",
       "4    6.0               4.0         1.0          0.0  "
      ]
     },
     "execution_count": 3,
     "metadata": {},
     "output_type": "execute_result"
    }
   ],
   "source": [
    "# Prints the top 5 rows of the mobility dataset\n",
    "df_mobility.head(5)"
   ]
  },
  {
   "cell_type": "code",
   "execution_count": 4,
   "metadata": {},
   "outputs": [
    {
     "data": {
      "text/html": [
       "<div>\n",
       "<style scoped>\n",
       "    .dataframe tbody tr th:only-of-type {\n",
       "        vertical-align: middle;\n",
       "    }\n",
       "\n",
       "    .dataframe tbody tr th {\n",
       "        vertical-align: top;\n",
       "    }\n",
       "\n",
       "    .dataframe thead th {\n",
       "        text-align: right;\n",
       "    }\n",
       "</style>\n",
       "<table border=\"1\" class=\"dataframe\">\n",
       "  <thead>\n",
       "    <tr style=\"text-align: right;\">\n",
       "      <th></th>\n",
       "      <th>submission_date</th>\n",
       "      <th>state</th>\n",
       "      <th>tot_cases</th>\n",
       "      <th>conf_cases</th>\n",
       "      <th>prob_cases</th>\n",
       "      <th>new_case</th>\n",
       "      <th>pnew_case</th>\n",
       "      <th>tot_death</th>\n",
       "      <th>conf_death</th>\n",
       "      <th>prob_death</th>\n",
       "      <th>new_death</th>\n",
       "      <th>pnew_death</th>\n",
       "      <th>created_at</th>\n",
       "      <th>consent_cases</th>\n",
       "      <th>consent_deaths</th>\n",
       "      <th>total_tests</th>\n",
       "    </tr>\n",
       "  </thead>\n",
       "  <tbody>\n",
       "    <tr>\n",
       "      <th>0</th>\n",
       "      <td>2/15/20</td>\n",
       "      <td>AK</td>\n",
       "      <td>0.0</td>\n",
       "      <td>NaN</td>\n",
       "      <td>NaN</td>\n",
       "      <td>0.0</td>\n",
       "      <td>NaN</td>\n",
       "      <td>0.0</td>\n",
       "      <td>NaN</td>\n",
       "      <td>NaN</td>\n",
       "      <td>0.0</td>\n",
       "      <td>NaN</td>\n",
       "      <td>3/26/20 16:22</td>\n",
       "      <td>NaN</td>\n",
       "      <td>NaN</td>\n",
       "      <td>0.0</td>\n",
       "    </tr>\n",
       "    <tr>\n",
       "      <th>1</th>\n",
       "      <td>2/16/20</td>\n",
       "      <td>AK</td>\n",
       "      <td>0.0</td>\n",
       "      <td>NaN</td>\n",
       "      <td>NaN</td>\n",
       "      <td>0.0</td>\n",
       "      <td>NaN</td>\n",
       "      <td>0.0</td>\n",
       "      <td>NaN</td>\n",
       "      <td>NaN</td>\n",
       "      <td>0.0</td>\n",
       "      <td>NaN</td>\n",
       "      <td>3/26/20 16:22</td>\n",
       "      <td>NaN</td>\n",
       "      <td>NaN</td>\n",
       "      <td>0.0</td>\n",
       "    </tr>\n",
       "    <tr>\n",
       "      <th>2</th>\n",
       "      <td>2/17/20</td>\n",
       "      <td>AK</td>\n",
       "      <td>0.0</td>\n",
       "      <td>NaN</td>\n",
       "      <td>NaN</td>\n",
       "      <td>0.0</td>\n",
       "      <td>NaN</td>\n",
       "      <td>0.0</td>\n",
       "      <td>NaN</td>\n",
       "      <td>NaN</td>\n",
       "      <td>0.0</td>\n",
       "      <td>NaN</td>\n",
       "      <td>3/26/20 16:22</td>\n",
       "      <td>NaN</td>\n",
       "      <td>NaN</td>\n",
       "      <td>0.0</td>\n",
       "    </tr>\n",
       "    <tr>\n",
       "      <th>3</th>\n",
       "      <td>2/18/20</td>\n",
       "      <td>AK</td>\n",
       "      <td>0.0</td>\n",
       "      <td>NaN</td>\n",
       "      <td>NaN</td>\n",
       "      <td>0.0</td>\n",
       "      <td>NaN</td>\n",
       "      <td>0.0</td>\n",
       "      <td>NaN</td>\n",
       "      <td>NaN</td>\n",
       "      <td>0.0</td>\n",
       "      <td>NaN</td>\n",
       "      <td>3/26/20 16:22</td>\n",
       "      <td>NaN</td>\n",
       "      <td>NaN</td>\n",
       "      <td>0.0</td>\n",
       "    </tr>\n",
       "    <tr>\n",
       "      <th>4</th>\n",
       "      <td>2/19/20</td>\n",
       "      <td>AK</td>\n",
       "      <td>0.0</td>\n",
       "      <td>NaN</td>\n",
       "      <td>NaN</td>\n",
       "      <td>0.0</td>\n",
       "      <td>NaN</td>\n",
       "      <td>0.0</td>\n",
       "      <td>NaN</td>\n",
       "      <td>NaN</td>\n",
       "      <td>0.0</td>\n",
       "      <td>NaN</td>\n",
       "      <td>3/26/20 16:22</td>\n",
       "      <td>NaN</td>\n",
       "      <td>NaN</td>\n",
       "      <td>0.0</td>\n",
       "    </tr>\n",
       "  </tbody>\n",
       "</table>\n",
       "</div>"
      ],
      "text/plain": [
       "  submission_date state  tot_cases  conf_cases  prob_cases  new_case  \\\n",
       "0         2/15/20    AK        0.0         NaN         NaN       0.0   \n",
       "1         2/16/20    AK        0.0         NaN         NaN       0.0   \n",
       "2         2/17/20    AK        0.0         NaN         NaN       0.0   \n",
       "3         2/18/20    AK        0.0         NaN         NaN       0.0   \n",
       "4         2/19/20    AK        0.0         NaN         NaN       0.0   \n",
       "\n",
       "   pnew_case  tot_death  conf_death  prob_death  new_death  pnew_death  \\\n",
       "0        NaN        0.0         NaN         NaN        0.0         NaN   \n",
       "1        NaN        0.0         NaN         NaN        0.0         NaN   \n",
       "2        NaN        0.0         NaN         NaN        0.0         NaN   \n",
       "3        NaN        0.0         NaN         NaN        0.0         NaN   \n",
       "4        NaN        0.0         NaN         NaN        0.0         NaN   \n",
       "\n",
       "      created_at consent_cases consent_deaths  total_tests  \n",
       "0  3/26/20 16:22           NaN            NaN          0.0  \n",
       "1  3/26/20 16:22           NaN            NaN          0.0  \n",
       "2  3/26/20 16:22           NaN            NaN          0.0  \n",
       "3  3/26/20 16:22           NaN            NaN          0.0  \n",
       "4  3/26/20 16:22           NaN            NaN          0.0  "
      ]
     },
     "execution_count": 4,
     "metadata": {},
     "output_type": "execute_result"
    }
   ],
   "source": [
    "# Prints the top 5 rows of the cases dataset\n",
    "df_cases.head(5)"
   ]
  },
  {
   "cell_type": "markdown",
   "metadata": {},
   "source": [
    "List of columns of cases and mobility datasets"
   ]
  },
  {
   "cell_type": "code",
   "execution_count": 5,
   "metadata": {},
   "outputs": [
    {
     "data": {
      "text/plain": [
       "Index(['submission_date', 'state', 'tot_cases', 'conf_cases', 'prob_cases',\n",
       "       'new_case', 'pnew_case', 'tot_death', 'conf_death', 'prob_death',\n",
       "       'new_death', 'pnew_death', 'created_at', 'consent_cases',\n",
       "       'consent_deaths', 'total_tests'],\n",
       "      dtype='object')"
      ]
     },
     "execution_count": 5,
     "metadata": {},
     "output_type": "execute_result"
    }
   ],
   "source": [
    "df_cases.columns"
   ]
  },
  {
   "cell_type": "code",
   "execution_count": 6,
   "metadata": {},
   "outputs": [
    {
     "data": {
      "text/plain": [
       "Index(['state', 'iso_code', 'date', 'retail_and_recreation',\n",
       "       'grocery_and_pharmacy', 'parks', 'transit_stations', 'workplaces',\n",
       "       'residential'],\n",
       "      dtype='object')"
      ]
     },
     "execution_count": 6,
     "metadata": {},
     "output_type": "execute_result"
    }
   ],
   "source": [
    "df_mobility.columns"
   ]
  },
  {
   "cell_type": "code",
   "execution_count": 7,
   "metadata": {
    "colab": {
     "base_uri": "https://localhost:8080/"
    },
    "id": "ExqKoIKV56kv",
    "outputId": "a815ddf6-1031-4c6b-9eeb-eca29fff5007"
   },
   "outputs": [
    {
     "name": "stdout",
     "output_type": "stream",
     "text": [
      "<class 'pandas.core.frame.DataFrame'>\n",
      "RangeIndex: 14280 entries, 0 to 14279\n",
      "Data columns (total 9 columns):\n",
      " #   Column                 Non-Null Count  Dtype  \n",
      "---  ------                 --------------  -----  \n",
      " 0   state                  14280 non-null  object \n",
      " 1   iso_code               14280 non-null  object \n",
      " 2   date                   14280 non-null  object \n",
      " 3   retail_and_recreation  14280 non-null  float64\n",
      " 4   grocery_and_pharmacy   14280 non-null  float64\n",
      " 5   parks                  14280 non-null  float64\n",
      " 6   transit_stations       14280 non-null  float64\n",
      " 7   workplaces             14280 non-null  float64\n",
      " 8   residential            14280 non-null  float64\n",
      "dtypes: float64(6), object(3)\n",
      "memory usage: 1004.2+ KB\n"
     ]
    }
   ],
   "source": [
    "df_mobility.info()"
   ]
  },
  {
   "cell_type": "code",
   "execution_count": 8,
   "metadata": {},
   "outputs": [
    {
     "name": "stdout",
     "output_type": "stream",
     "text": [
      "<class 'pandas.core.frame.DataFrame'>\n",
      "RangeIndex: 14280 entries, 0 to 14279\n",
      "Data columns (total 16 columns):\n",
      " #   Column           Non-Null Count  Dtype  \n",
      "---  ------           --------------  -----  \n",
      " 0   submission_date  14280 non-null  object \n",
      " 1   state            14280 non-null  object \n",
      " 2   tot_cases        14268 non-null  float64\n",
      " 3   conf_cases       5947 non-null   float64\n",
      " 4   prob_cases       5947 non-null   float64\n",
      " 5   new_case         14263 non-null  float64\n",
      " 6   pnew_case        11157 non-null  float64\n",
      " 7   tot_death        14262 non-null  float64\n",
      " 8   conf_death       6327 non-null   float64\n",
      " 9   prob_death       6327 non-null   float64\n",
      " 10  new_death        14262 non-null  float64\n",
      " 11  pnew_death       11065 non-null  float64\n",
      " 12  created_at       14262 non-null  object \n",
      " 13  consent_cases    12022 non-null  object \n",
      " 14  consent_deaths   12302 non-null  object \n",
      " 15  total_tests      13988 non-null  float64\n",
      "dtypes: float64(11), object(5)\n",
      "memory usage: 1.7+ MB\n"
     ]
    }
   ],
   "source": [
    "df_cases.info()"
   ]
  },
  {
   "cell_type": "markdown",
   "metadata": {},
   "source": [
    "From the below describe() tables,we can observe mean, maximum and minimum values for mobility and cases of different places.We can also observe that maximum mobility is observed in the parks and minimum in retail_and_recreation"
   ]
  },
  {
   "cell_type": "code",
   "execution_count": 9,
   "metadata": {
    "colab": {
     "base_uri": "https://localhost:8080/",
     "height": 297
    },
    "id": "tYxs5nC3_hFm",
    "outputId": "81675a07-d199-4c70-e65f-cae4012fd516"
   },
   "outputs": [
    {
     "data": {
      "text/html": [
       "<div>\n",
       "<style scoped>\n",
       "    .dataframe tbody tr th:only-of-type {\n",
       "        vertical-align: middle;\n",
       "    }\n",
       "\n",
       "    .dataframe tbody tr th {\n",
       "        vertical-align: top;\n",
       "    }\n",
       "\n",
       "    .dataframe thead th {\n",
       "        text-align: right;\n",
       "    }\n",
       "</style>\n",
       "<table border=\"1\" class=\"dataframe\">\n",
       "  <thead>\n",
       "    <tr style=\"text-align: right;\">\n",
       "      <th></th>\n",
       "      <th>count</th>\n",
       "      <th>mean</th>\n",
       "      <th>std</th>\n",
       "      <th>min</th>\n",
       "      <th>25%</th>\n",
       "      <th>50%</th>\n",
       "      <th>75%</th>\n",
       "      <th>max</th>\n",
       "    </tr>\n",
       "  </thead>\n",
       "  <tbody>\n",
       "    <tr>\n",
       "      <th>retail_and_recreation</th>\n",
       "      <td>14280.0</td>\n",
       "      <td>-15.040126</td>\n",
       "      <td>16.608661</td>\n",
       "      <td>-77.0</td>\n",
       "      <td>-24.0</td>\n",
       "      <td>-13.0</td>\n",
       "      <td>-4.0</td>\n",
       "      <td>41.0</td>\n",
       "    </tr>\n",
       "    <tr>\n",
       "      <th>grocery_and_pharmacy</th>\n",
       "      <td>14280.0</td>\n",
       "      <td>-1.336485</td>\n",
       "      <td>11.198563</td>\n",
       "      <td>-62.0</td>\n",
       "      <td>-7.0</td>\n",
       "      <td>-1.0</td>\n",
       "      <td>5.0</td>\n",
       "      <td>61.0</td>\n",
       "    </tr>\n",
       "    <tr>\n",
       "      <th>parks</th>\n",
       "      <td>14280.0</td>\n",
       "      <td>58.381092</td>\n",
       "      <td>78.785946</td>\n",
       "      <td>-77.0</td>\n",
       "      <td>0.0</td>\n",
       "      <td>38.0</td>\n",
       "      <td>97.0</td>\n",
       "      <td>636.0</td>\n",
       "    </tr>\n",
       "    <tr>\n",
       "      <th>transit_stations</th>\n",
       "      <td>14280.0</td>\n",
       "      <td>-19.799370</td>\n",
       "      <td>23.007470</td>\n",
       "      <td>-82.0</td>\n",
       "      <td>-36.0</td>\n",
       "      <td>-20.0</td>\n",
       "      <td>-1.0</td>\n",
       "      <td>73.0</td>\n",
       "    </tr>\n",
       "    <tr>\n",
       "      <th>workplaces</th>\n",
       "      <td>14280.0</td>\n",
       "      <td>-27.609384</td>\n",
       "      <td>15.668133</td>\n",
       "      <td>-78.0</td>\n",
       "      <td>-38.0</td>\n",
       "      <td>-30.0</td>\n",
       "      <td>-16.0</td>\n",
       "      <td>18.0</td>\n",
       "    </tr>\n",
       "    <tr>\n",
       "      <th>residential</th>\n",
       "      <td>14280.0</td>\n",
       "      <td>8.477381</td>\n",
       "      <td>6.363153</td>\n",
       "      <td>-5.0</td>\n",
       "      <td>4.0</td>\n",
       "      <td>8.0</td>\n",
       "      <td>12.0</td>\n",
       "      <td>33.0</td>\n",
       "    </tr>\n",
       "  </tbody>\n",
       "</table>\n",
       "</div>"
      ],
      "text/plain": [
       "                         count       mean        std   min   25%   50%   75%  \\\n",
       "retail_and_recreation  14280.0 -15.040126  16.608661 -77.0 -24.0 -13.0  -4.0   \n",
       "grocery_and_pharmacy   14280.0  -1.336485  11.198563 -62.0  -7.0  -1.0   5.0   \n",
       "parks                  14280.0  58.381092  78.785946 -77.0   0.0  38.0  97.0   \n",
       "transit_stations       14280.0 -19.799370  23.007470 -82.0 -36.0 -20.0  -1.0   \n",
       "workplaces             14280.0 -27.609384  15.668133 -78.0 -38.0 -30.0 -16.0   \n",
       "residential            14280.0   8.477381   6.363153  -5.0   4.0   8.0  12.0   \n",
       "\n",
       "                         max  \n",
       "retail_and_recreation   41.0  \n",
       "grocery_and_pharmacy    61.0  \n",
       "parks                  636.0  \n",
       "transit_stations        73.0  \n",
       "workplaces              18.0  \n",
       "residential             33.0  "
      ]
     },
     "execution_count": 9,
     "metadata": {},
     "output_type": "execute_result"
    }
   ],
   "source": [
    "df_mobility.describe().T"
   ]
  },
  {
   "cell_type": "code",
   "execution_count": 10,
   "metadata": {},
   "outputs": [
    {
     "data": {
      "text/html": [
       "<div>\n",
       "<style scoped>\n",
       "    .dataframe tbody tr th:only-of-type {\n",
       "        vertical-align: middle;\n",
       "    }\n",
       "\n",
       "    .dataframe tbody tr th {\n",
       "        vertical-align: top;\n",
       "    }\n",
       "\n",
       "    .dataframe thead th {\n",
       "        text-align: right;\n",
       "    }\n",
       "</style>\n",
       "<table border=\"1\" class=\"dataframe\">\n",
       "  <thead>\n",
       "    <tr style=\"text-align: right;\">\n",
       "      <th></th>\n",
       "      <th>count</th>\n",
       "      <th>mean</th>\n",
       "      <th>std</th>\n",
       "      <th>min</th>\n",
       "      <th>25%</th>\n",
       "      <th>50%</th>\n",
       "      <th>75%</th>\n",
       "      <th>max</th>\n",
       "    </tr>\n",
       "  </thead>\n",
       "  <tbody>\n",
       "    <tr>\n",
       "      <th>tot_cases</th>\n",
       "      <td>14268.0</td>\n",
       "      <td>70649.603448</td>\n",
       "      <td>1.298176e+05</td>\n",
       "      <td>0.0</td>\n",
       "      <td>2475.75</td>\n",
       "      <td>20795.5</td>\n",
       "      <td>87691.0</td>\n",
       "      <td>1072698.0</td>\n",
       "    </tr>\n",
       "    <tr>\n",
       "      <th>conf_cases</th>\n",
       "      <td>5947.0</td>\n",
       "      <td>72553.584496</td>\n",
       "      <td>8.098506e+04</td>\n",
       "      <td>0.0</td>\n",
       "      <td>11651.00</td>\n",
       "      <td>44642.0</td>\n",
       "      <td>108785.0</td>\n",
       "      <td>634395.0</td>\n",
       "    </tr>\n",
       "    <tr>\n",
       "      <th>prob_cases</th>\n",
       "      <td>5947.0</td>\n",
       "      <td>3659.072810</td>\n",
       "      <td>5.599577e+03</td>\n",
       "      <td>0.0</td>\n",
       "      <td>129.50</td>\n",
       "      <td>1252.0</td>\n",
       "      <td>4829.5</td>\n",
       "      <td>41184.0</td>\n",
       "    </tr>\n",
       "    <tr>\n",
       "      <th>new_case</th>\n",
       "      <td>14263.0</td>\n",
       "      <td>805.884246</td>\n",
       "      <td>1.489443e+03</td>\n",
       "      <td>-10427.0</td>\n",
       "      <td>37.00</td>\n",
       "      <td>297.0</td>\n",
       "      <td>910.5</td>\n",
       "      <td>17844.0</td>\n",
       "    </tr>\n",
       "    <tr>\n",
       "      <th>pnew_case</th>\n",
       "      <td>11157.0</td>\n",
       "      <td>46.488931</td>\n",
       "      <td>1.974092e+02</td>\n",
       "      <td>-6259.0</td>\n",
       "      <td>0.00</td>\n",
       "      <td>0.0</td>\n",
       "      <td>23.0</td>\n",
       "      <td>5014.0</td>\n",
       "    </tr>\n",
       "    <tr>\n",
       "      <th>tot_death</th>\n",
       "      <td>14262.0</td>\n",
       "      <td>2035.965082</td>\n",
       "      <td>3.381592e+03</td>\n",
       "      <td>0.0</td>\n",
       "      <td>58.00</td>\n",
       "      <td>547.0</td>\n",
       "      <td>2420.0</td>\n",
       "      <td>20296.0</td>\n",
       "    </tr>\n",
       "    <tr>\n",
       "      <th>conf_death</th>\n",
       "      <td>6327.0</td>\n",
       "      <td>2614.613877</td>\n",
       "      <td>3.040045e+03</td>\n",
       "      <td>0.0</td>\n",
       "      <td>449.50</td>\n",
       "      <td>1552.0</td>\n",
       "      <td>3566.0</td>\n",
       "      <td>14900.0</td>\n",
       "    </tr>\n",
       "    <tr>\n",
       "      <th>prob_death</th>\n",
       "      <td>6327.0</td>\n",
       "      <td>156.958116</td>\n",
       "      <td>3.206120e+02</td>\n",
       "      <td>0.0</td>\n",
       "      <td>0.00</td>\n",
       "      <td>38.0</td>\n",
       "      <td>207.0</td>\n",
       "      <td>5482.0</td>\n",
       "    </tr>\n",
       "    <tr>\n",
       "      <th>new_death</th>\n",
       "      <td>14262.0</td>\n",
       "      <td>16.004628</td>\n",
       "      <td>4.561464e+01</td>\n",
       "      <td>-1824.0</td>\n",
       "      <td>0.00</td>\n",
       "      <td>4.0</td>\n",
       "      <td>16.0</td>\n",
       "      <td>2185.0</td>\n",
       "    </tr>\n",
       "    <tr>\n",
       "      <th>pnew_death</th>\n",
       "      <td>11065.0</td>\n",
       "      <td>0.922368</td>\n",
       "      <td>7.992104e+01</td>\n",
       "      <td>-5482.0</td>\n",
       "      <td>0.00</td>\n",
       "      <td>0.0</td>\n",
       "      <td>0.0</td>\n",
       "      <td>5482.0</td>\n",
       "    </tr>\n",
       "    <tr>\n",
       "      <th>total_tests</th>\n",
       "      <td>13988.0</td>\n",
       "      <td>986368.212110</td>\n",
       "      <td>2.108890e+06</td>\n",
       "      <td>0.0</td>\n",
       "      <td>28311.00</td>\n",
       "      <td>276492.5</td>\n",
       "      <td>935911.0</td>\n",
       "      <td>21730551.0</td>\n",
       "    </tr>\n",
       "  </tbody>\n",
       "</table>\n",
       "</div>"
      ],
      "text/plain": [
       "               count           mean           std      min       25%  \\\n",
       "tot_cases    14268.0   70649.603448  1.298176e+05      0.0   2475.75   \n",
       "conf_cases    5947.0   72553.584496  8.098506e+04      0.0  11651.00   \n",
       "prob_cases    5947.0    3659.072810  5.599577e+03      0.0    129.50   \n",
       "new_case     14263.0     805.884246  1.489443e+03 -10427.0     37.00   \n",
       "pnew_case    11157.0      46.488931  1.974092e+02  -6259.0      0.00   \n",
       "tot_death    14262.0    2035.965082  3.381592e+03      0.0     58.00   \n",
       "conf_death    6327.0    2614.613877  3.040045e+03      0.0    449.50   \n",
       "prob_death    6327.0     156.958116  3.206120e+02      0.0      0.00   \n",
       "new_death    14262.0      16.004628  4.561464e+01  -1824.0      0.00   \n",
       "pnew_death   11065.0       0.922368  7.992104e+01  -5482.0      0.00   \n",
       "total_tests  13988.0  986368.212110  2.108890e+06      0.0  28311.00   \n",
       "\n",
       "                  50%       75%         max  \n",
       "tot_cases     20795.5   87691.0   1072698.0  \n",
       "conf_cases    44642.0  108785.0    634395.0  \n",
       "prob_cases     1252.0    4829.5     41184.0  \n",
       "new_case        297.0     910.5     17844.0  \n",
       "pnew_case         0.0      23.0      5014.0  \n",
       "tot_death       547.0    2420.0     20296.0  \n",
       "conf_death     1552.0    3566.0     14900.0  \n",
       "prob_death       38.0     207.0      5482.0  \n",
       "new_death         4.0      16.0      2185.0  \n",
       "pnew_death        0.0       0.0      5482.0  \n",
       "total_tests  276492.5  935911.0  21730551.0  "
      ]
     },
     "execution_count": 10,
     "metadata": {},
     "output_type": "execute_result"
    }
   ],
   "source": [
    "df_cases.describe().T"
   ]
  },
  {
   "cell_type": "markdown",
   "metadata": {
    "id": "KbxulFDj6MRZ"
   },
   "source": [
    "## Basic Data cleaning"
   ]
  },
  {
   "cell_type": "markdown",
   "metadata": {
    "id": "GdgbSm_j8dfD"
   },
   "source": [
    "### Dealing with Data types"
   ]
  },
  {
   "cell_type": "markdown",
   "metadata": {},
   "source": [
    "We have 2 different datatypes in our datasets which are :\n",
    "- Numeric, \n",
    "- Categorical\n",
    "\n",
    "We convert datatype of date column to datetype so that we can use that column to filter the data based on the datetime values of the dataset."
   ]
  },
  {
   "cell_type": "code",
   "execution_count": 11,
   "metadata": {},
   "outputs": [],
   "source": [
    "df_mobility['date']= pd.to_datetime(df_mobility['date'])\n",
    "\n",
    "df_cases['submission_date']= pd.to_datetime(df_cases['submission_date'])"
   ]
  },
  {
   "cell_type": "code",
   "execution_count": 12,
   "metadata": {},
   "outputs": [
    {
     "name": "stdout",
     "output_type": "stream",
     "text": [
      "<class 'pandas.core.frame.DataFrame'>\n",
      "RangeIndex: 14280 entries, 0 to 14279\n",
      "Data columns (total 9 columns):\n",
      " #   Column                 Non-Null Count  Dtype         \n",
      "---  ------                 --------------  -----         \n",
      " 0   state                  14280 non-null  object        \n",
      " 1   iso_code               14280 non-null  object        \n",
      " 2   date                   14280 non-null  datetime64[ns]\n",
      " 3   retail_and_recreation  14280 non-null  float64       \n",
      " 4   grocery_and_pharmacy   14280 non-null  float64       \n",
      " 5   parks                  14280 non-null  float64       \n",
      " 6   transit_stations       14280 non-null  float64       \n",
      " 7   workplaces             14280 non-null  float64       \n",
      " 8   residential            14280 non-null  float64       \n",
      "dtypes: datetime64[ns](1), float64(6), object(2)\n",
      "memory usage: 1004.2+ KB\n",
      "None\n"
     ]
    }
   ],
   "source": [
    "print(df_mobility.info())"
   ]
  },
  {
   "cell_type": "markdown",
   "metadata": {},
   "source": [
    "We can observe that datatype of date columns has been changed to datetime."
   ]
  },
  {
   "cell_type": "markdown",
   "metadata": {},
   "source": [
    "### Feature Selection\n",
    "\n",
    "\n",
    "Our dataset 'mobility' contains the values corresponding to each county within state. We are primarily focusing on analysing the state wise trends. Hence we are dropping all the rows corresponding to the each county.\n",
    "\n"
   ]
  },
  {
   "cell_type": "code",
   "execution_count": 13,
   "metadata": {
    "id": "ghKV_3yidwA3"
   },
   "outputs": [
    {
     "ename": "AttributeError",
     "evalue": "'DataFrame' object has no attribute 'county'",
     "output_type": "error",
     "traceback": [
      "\u001b[1;31m---------------------------------------------------------------------------\u001b[0m",
      "\u001b[1;31mAttributeError\u001b[0m                            Traceback (most recent call last)",
      "\u001b[1;32m<ipython-input-13-2fcc0625611a>\u001b[0m in \u001b[0;36m<module>\u001b[1;34m\u001b[0m\n\u001b[0;32m      1\u001b[0m \u001b[0mdf_mobility\u001b[0m\u001b[1;33m=\u001b[0m\u001b[0mdf_mobility\u001b[0m\u001b[1;33m[\u001b[0m\u001b[0mdf_mobility\u001b[0m\u001b[1;33m.\u001b[0m\u001b[0mstate\u001b[0m\u001b[1;33m.\u001b[0m\u001b[0mnotnull\u001b[0m\u001b[1;33m(\u001b[0m\u001b[1;33m)\u001b[0m\u001b[1;33m]\u001b[0m\u001b[1;33m\u001b[0m\u001b[1;33m\u001b[0m\u001b[0m\n\u001b[1;32m----> 2\u001b[1;33m \u001b[0mdf_mobility\u001b[0m\u001b[1;33m=\u001b[0m\u001b[0mdf_mobility\u001b[0m\u001b[1;33m[\u001b[0m\u001b[0mdf_mobility\u001b[0m\u001b[1;33m.\u001b[0m\u001b[0mcounty\u001b[0m\u001b[1;33m.\u001b[0m\u001b[0misnull\u001b[0m\u001b[1;33m(\u001b[0m\u001b[1;33m)\u001b[0m\u001b[1;33m]\u001b[0m\u001b[1;33m\u001b[0m\u001b[1;33m\u001b[0m\u001b[0m\n\u001b[0m\u001b[0;32m      3\u001b[0m \u001b[0mdf_mobility\u001b[0m\u001b[1;33m.\u001b[0m\u001b[0mdrop\u001b[0m\u001b[1;33m(\u001b[0m\u001b[1;33m[\u001b[0m\u001b[1;34m'county'\u001b[0m\u001b[1;33m,\u001b[0m \u001b[1;34m'metro_area'\u001b[0m\u001b[1;33m,\u001b[0m\u001b[1;34m'census_fips_code'\u001b[0m\u001b[1;33m,\u001b[0m\u001b[1;34m'country_code'\u001b[0m\u001b[1;33m,\u001b[0m\u001b[1;34m'country_region'\u001b[0m\u001b[1;33m]\u001b[0m\u001b[1;33m,\u001b[0m \u001b[0maxis\u001b[0m \u001b[1;33m=\u001b[0m \u001b[1;36m1\u001b[0m\u001b[1;33m,\u001b[0m\u001b[0minplace\u001b[0m\u001b[1;33m=\u001b[0m\u001b[1;32mTrue\u001b[0m\u001b[1;33m)\u001b[0m\u001b[1;33m\u001b[0m\u001b[1;33m\u001b[0m\u001b[0m\n",
      "\u001b[1;32m~\\anaconda3\\lib\\site-packages\\pandas\\core\\generic.py\u001b[0m in \u001b[0;36m__getattr__\u001b[1;34m(self, name)\u001b[0m\n\u001b[0;32m   5272\u001b[0m             \u001b[1;32mif\u001b[0m \u001b[0mself\u001b[0m\u001b[1;33m.\u001b[0m\u001b[0m_info_axis\u001b[0m\u001b[1;33m.\u001b[0m\u001b[0m_can_hold_identifiers_and_holds_name\u001b[0m\u001b[1;33m(\u001b[0m\u001b[0mname\u001b[0m\u001b[1;33m)\u001b[0m\u001b[1;33m:\u001b[0m\u001b[1;33m\u001b[0m\u001b[1;33m\u001b[0m\u001b[0m\n\u001b[0;32m   5273\u001b[0m                 \u001b[1;32mreturn\u001b[0m \u001b[0mself\u001b[0m\u001b[1;33m[\u001b[0m\u001b[0mname\u001b[0m\u001b[1;33m]\u001b[0m\u001b[1;33m\u001b[0m\u001b[1;33m\u001b[0m\u001b[0m\n\u001b[1;32m-> 5274\u001b[1;33m             \u001b[1;32mreturn\u001b[0m \u001b[0mobject\u001b[0m\u001b[1;33m.\u001b[0m\u001b[0m__getattribute__\u001b[0m\u001b[1;33m(\u001b[0m\u001b[0mself\u001b[0m\u001b[1;33m,\u001b[0m \u001b[0mname\u001b[0m\u001b[1;33m)\u001b[0m\u001b[1;33m\u001b[0m\u001b[1;33m\u001b[0m\u001b[0m\n\u001b[0m\u001b[0;32m   5275\u001b[0m \u001b[1;33m\u001b[0m\u001b[0m\n\u001b[0;32m   5276\u001b[0m     \u001b[1;32mdef\u001b[0m \u001b[0m__setattr__\u001b[0m\u001b[1;33m(\u001b[0m\u001b[0mself\u001b[0m\u001b[1;33m,\u001b[0m \u001b[0mname\u001b[0m\u001b[1;33m:\u001b[0m \u001b[0mstr\u001b[0m\u001b[1;33m,\u001b[0m \u001b[0mvalue\u001b[0m\u001b[1;33m)\u001b[0m \u001b[1;33m->\u001b[0m \u001b[1;32mNone\u001b[0m\u001b[1;33m:\u001b[0m\u001b[1;33m\u001b[0m\u001b[1;33m\u001b[0m\u001b[0m\n",
      "\u001b[1;31mAttributeError\u001b[0m: 'DataFrame' object has no attribute 'county'"
     ]
    }
   ],
   "source": [
    "df_mobility=df_mobility[df_mobility.state.notnull()]\n",
    "df_mobility=df_mobility[df_mobility.county.isnull()]\n",
    "df_mobility.drop(['county', 'metro_area','census_fips_code','country_code','country_region'], axis = 1,inplace=True)"
   ]
  },
  {
   "cell_type": "markdown",
   "metadata": {},
   "source": [
    "We create a new column 'cases_percent' and store the values by computing percentage of COVID positive cases using the columns 'New_cases' and 'Total_tests'"
   ]
  },
  {
   "cell_type": "code",
   "execution_count": null,
   "metadata": {},
   "outputs": [],
   "source": [
    "df_cases[\"cases_percent\"]=(df_cases['new_case']*100)/df_cases['total_tests']"
   ]
  },
  {
   "cell_type": "code",
   "execution_count": null,
   "metadata": {},
   "outputs": [],
   "source": [
    "#checking if the new column 'cases_percent' has been added to df_cases\n",
    "df_cases.tail()"
   ]
  },
  {
   "cell_type": "markdown",
   "metadata": {},
   "source": [
    "### Handling missing data"
   ]
  },
  {
   "cell_type": "markdown",
   "metadata": {},
   "source": [
    "We have few null values in the columns 'parks' and 'transit_stations'. We will replaces those values with zeros so that we can caluclate accurate trends of the mobility to those category of places\n"
   ]
  },
  {
   "cell_type": "code",
   "execution_count": null,
   "metadata": {},
   "outputs": [],
   "source": [
    "df_mobility.isnull().sum().sort_values(ascending=False)"
   ]
  },
  {
   "cell_type": "code",
   "execution_count": null,
   "metadata": {},
   "outputs": [],
   "source": [
    "df_mobility['parks']= df_mobility['parks'].fillna(0)\n",
    "df_mobility['transit_stations']= df_mobility['transit_stations'].fillna(0)"
   ]
  },
  {
   "cell_type": "code",
   "execution_count": null,
   "metadata": {},
   "outputs": [],
   "source": [
    "df_mobility.isnull().sum().sort_values(ascending=False)"
   ]
  },
  {
   "cell_type": "markdown",
   "metadata": {},
   "source": [
    "Dataset \"cases\" contains null values, we will drop those columns which have large number of null values and replace other null values with zeros."
   ]
  },
  {
   "cell_type": "code",
   "execution_count": null,
   "metadata": {},
   "outputs": [],
   "source": [
    "df_cases.isnull().sum().sort_values(ascending=False)"
   ]
  },
  {
   "cell_type": "code",
   "execution_count": null,
   "metadata": {},
   "outputs": [],
   "source": [
    "df_cases.drop(['prob_cases','created_at','conf_cases','prob_death','conf_death','pnew_death','pnew_case','pnew_case','consent_cases','consent_deaths'], axis = 1,inplace=True)"
   ]
  },
  {
   "cell_type": "code",
   "execution_count": null,
   "metadata": {
    "id": "-yMF84ST7qQj"
   },
   "outputs": [],
   "source": [
    "df_cases['new_death']= df_cases['new_death'].fillna(0)\n",
    "df_cases['tot_death']= df_cases['tot_death'].fillna(0)\n",
    "df_cases['new_case']= df_cases['new_case'].fillna(0)\n",
    "df_cases['tot_cases']= df_cases['tot_cases'].fillna(0)\n",
    "df_cases['cases_percent']= df_cases['tot_cases'].fillna(0)\n",
    "df_cases['total_tests']= df_cases['tot_cases'].fillna(0)"
   ]
  },
  {
   "cell_type": "code",
   "execution_count": null,
   "metadata": {},
   "outputs": [],
   "source": [
    "df_cases.isnull().sum().sort_values(ascending=False)"
   ]
  },
  {
   "cell_type": "markdown",
   "metadata": {},
   "source": [
    "Checking if both datasets have same number of rows"
   ]
  },
  {
   "cell_type": "code",
   "execution_count": null,
   "metadata": {
    "colab": {
     "base_uri": "https://localhost:8080/"
    },
    "id": "Uqkt3aruzNNy",
    "outputId": "8e2d6392-6d43-401c-8341-9425cb65c1b5"
   },
   "outputs": [],
   "source": [
    "df_mobility.shape"
   ]
  },
  {
   "cell_type": "code",
   "execution_count": null,
   "metadata": {},
   "outputs": [],
   "source": [
    "df_cases.shape"
   ]
  },
  {
   "cell_type": "markdown",
   "metadata": {
    "id": "w26KmH9pAajl"
   },
   "source": [
    "Saving the cleaned dataset into seperate file"
   ]
  },
  {
   "cell_type": "code",
   "execution_count": null,
   "metadata": {
    "id": "4ATFa6eNw44f"
   },
   "outputs": [],
   "source": [
    "df_mobility.to_csv('mobility_cleaned.csv',header=True,index=False)\n",
    "df_mobility= pd.read_csv('mobility_cleaned.csv')\n",
    "df_mobility['date']=pd.to_datetime(df_mobility['date'])"
   ]
  },
  {
   "cell_type": "markdown",
   "metadata": {
    "id": "AnPycWK0ASLI"
   },
   "source": [
    "### Merging columns of both datasets\n",
    "\n"
   ]
  },
  {
   "cell_type": "code",
   "execution_count": null,
   "metadata": {},
   "outputs": [],
   "source": [
    "df_cases['submission_date']= pd.to_datetime(df_cases['submission_date'])\n",
    "\n",
    "states_mobility=df_mobility.iso_code.unique()\n",
    "df_cases1 = pd.DataFrame()\n",
    "\n",
    "for  stat in states_mobility:\n",
    "    df_cases1=df_cases1.append(df_cases[(df_cases['submission_date'] >= '2/15/20') & (df_cases['submission_date'] <= '11/20/20') & (df_cases['state']==stat)])\n"
   ]
  },
  {
   "cell_type": "code",
   "execution_count": null,
   "metadata": {},
   "outputs": [],
   "source": [
    "df_cases1.shape\n",
    "df_cases1['submission_date']= pd.to_datetime(df_cases1['submission_date'])"
   ]
  },
  {
   "cell_type": "code",
   "execution_count": null,
   "metadata": {
    "colab": {
     "base_uri": "https://localhost:8080/",
     "height": 230
    },
    "id": "UB-uEt_SZAW_",
    "outputId": "1fd034f7-8e2b-4aa2-e738-48a853072861"
   },
   "outputs": [],
   "source": [
    "df_cases1 = df_cases1.sort_values(by = 'state') \n",
    "df_mobility = df_mobility.sort_values(by = 'state') \n",
    "df_cases.tail()"
   ]
  },
  {
   "cell_type": "code",
   "execution_count": null,
   "metadata": {
    "colab": {
     "base_uri": "https://localhost:8080/"
    },
    "id": "hJr6RPnnHnh2",
    "outputId": "877c4827-6df6-455c-fb7c-ad0692fb460d"
   },
   "outputs": [],
   "source": [
    "df_mobility.head()"
   ]
  },
  {
   "cell_type": "markdown",
   "metadata": {
    "id": "p2tAcdpdVgfg"
   },
   "source": [
    "#### Adding the columns 'new_case', 'cases_percent' of df_cases1 to df_mobility dataset"
   ]
  },
  {
   "cell_type": "code",
   "execution_count": null,
   "metadata": {
    "id": "77x4tyGWZTxx"
   },
   "outputs": [],
   "source": [
    "df_mobility['cases']=df_cases1['new_case']\n",
    "df_mobility['cases_percent']=df_cases1['cases_percent']"
   ]
  },
  {
   "cell_type": "code",
   "execution_count": null,
   "metadata": {
    "colab": {
     "base_uri": "https://localhost:8080/",
     "height": 213
    },
    "id": "VKjUR-Y9WcV1",
    "outputId": "5bc40b1d-ee9f-437d-8e25-49f306c7af9d"
   },
   "outputs": [],
   "source": [
    "df_mobility"
   ]
  },
  {
   "cell_type": "markdown",
   "metadata": {},
   "source": [
    "### Exploratory Data Analysis\n",
    "\n",
    "\n",
    "#### Summarising the mobility trends of different place categories accross all the US States."
   ]
  },
  {
   "cell_type": "code",
   "execution_count": null,
   "metadata": {},
   "outputs": [],
   "source": [
    "df=pd.DataFrame()\n",
    "\n",
    "df['transit_stations']=df_mobility.groupby(['iso_code'])['transit_stations'].mean()\n",
    "df['parks']=df_mobility.groupby(['iso_code'])['parks'].mean()\n",
    "df['retail_and_recreation']=df_mobility.groupby(['iso_code'])['parks'].mean()\n",
    "df['workplaces']=df_mobility.groupby(['iso_code'])['workplaces'].mean()\n",
    "df['grocery_and_pharmacy']=df_mobility.groupby(['iso_code'])['grocery_and_pharmacy'].mean()\n",
    "df['retail_and_recreation']=df_mobility.groupby(['iso_code'])['retail_and_recreation'].mean()\n",
    "df['residential']=df_mobility.groupby(['iso_code'])['residential'].mean()\n",
    "df['cases']=df_mobility.groupby(['iso_code'])['cases'].mean()\n",
    "df['total cases']=df_mobility.groupby(['iso_code'])['cases'].sum()\n",
    "state=df_mobility['iso_code'].unique()\n",
    "df['state']=sorted(state)\n",
    "sum1=df['cases'].sum()\n",
    "\n",
    "df = df.sort_values(by = 'state')\n"
   ]
  },
  {
   "cell_type": "code",
   "execution_count": null,
   "metadata": {},
   "outputs": [],
   "source": [
    "df_color=pd.read_csv('red_blue.csv')\n",
    "red_blue=[]\n",
    "red_blue=df_color['Red/Blue'].tolist()\n",
    "state_name=df_color['State/District'].tolist()\n",
    "df['Red/Blue']=red_blue\n",
    "df['state_name']=state_name\n"
   ]
  },
  {
   "cell_type": "code",
   "execution_count": null,
   "metadata": {},
   "outputs": [],
   "source": [
    "df"
   ]
  },
  {
   "cell_type": "code",
   "execution_count": null,
   "metadata": {},
   "outputs": [],
   "source": [
    "df.describe().T"
   ]
  },
  {
   "cell_type": "markdown",
   "metadata": {},
   "source": [
    "From the above table we can observe  following \n",
    "\n",
    "- Mobility has dropped to a greater extent to places such as workplaces , transit_stations and retail_and_recreation. \n",
    "- Mbility has increased very much to parks.\n",
    "- There is no significant difference in the mobility to grocery and pharmacy stores."
   ]
  },
  {
   "cell_type": "markdown",
   "metadata": {},
   "source": [
    "#### Heatmap showing correlation between columns of mobility dataset"
   ]
  },
  {
   "cell_type": "code",
   "execution_count": null,
   "metadata": {},
   "outputs": [],
   "source": [
    "import seaborn as sns\n",
    "import matplotlib as pl\n",
    "import matplotlib.pyplot as plt\n",
    "\n",
    "\n",
    "correlation=df_mobility.corr()\n",
    "plt.figure(figsize=(20,20))\n",
    "#plt.savefig('Heatmap.png')\n",
    "sns_plot=sns.heatmap(correlation,annot=True)\n",
    "#plt.savefig(\"output.png\")\n",
    "plt.show()"
   ]
  },
  {
   "cell_type": "markdown",
   "metadata": {},
   "source": [
    "### Histograms on different columns of cases dataset"
   ]
  },
  {
   "cell_type": "code",
   "execution_count": null,
   "metadata": {},
   "outputs": [],
   "source": [
    "sns.set_style(\"whitegrid\");\n",
    "num=df.select_dtypes(include=['int64','float64'])\n",
    "num.hist(figsize=(20, 20))\n",
    "#plt.savefig('Histograms.png')\n",
    "plt.show() \n",
    "\n"
   ]
  },
  {
   "cell_type": "markdown",
   "metadata": {},
   "source": [
    "### Outlier Detection"
   ]
  },
  {
   "cell_type": "code",
   "execution_count": null,
   "metadata": {},
   "outputs": [],
   "source": [
    "columns = ['parks',\n",
    "       'workplaces','transit_stations','retail_and_recreation','grocery_and_pharmacy','residential']\n",
    "\n",
    "for i in columns:\n",
    "    print(i)\n",
    "    \n",
    "    df_mobility[str(i)].plot(kind='box', subplots=True, sharex=False, sharey=False, figsize=(6,6))\n",
    "   \n",
    "    plt.show()\n",
    "    "
   ]
  },
  {
   "cell_type": "markdown",
   "metadata": {},
   "source": [
    "We can observe that there are outliers in every category of places."
   ]
  },
  {
   "cell_type": "code",
   "execution_count": null,
   "metadata": {},
   "outputs": [],
   "source": [
    "df_bottom=df.head(10)"
   ]
  },
  {
   "cell_type": "code",
   "execution_count": null,
   "metadata": {},
   "outputs": [],
   "source": [
    "df_bottom"
   ]
  },
  {
   "cell_type": "code",
   "execution_count": null,
   "metadata": {},
   "outputs": [],
   "source": [
    "df_top=df.tail(10)\n",
    "df_top"
   ]
  },
  {
   "cell_type": "markdown",
   "metadata": {},
   "source": [
    "### States with lowest and highest positive cases"
   ]
  },
  {
   "cell_type": "code",
   "execution_count": null,
   "metadata": {},
   "outputs": [],
   "source": [
    "import matplotlib.pyplot as plt\n",
    "%matplotlib inline\n",
    "plt.style.use('ggplot')\n",
    "plt.bar(df_bottom['state'], df_bottom['total cases'])\n",
    "plt.xlabel(\"States\")\n",
    "plt.ylabel(\"Cases\")\n",
    "plt.title(\"List of states with lowest positive cases\")\n",
    "#plt.savefig('low.png')\n",
    "plt.show()"
   ]
  },
  {
   "cell_type": "code",
   "execution_count": null,
   "metadata": {},
   "outputs": [],
   "source": [
    "import matplotlib.pyplot as plt\n",
    "%matplotlib inline\n",
    "plt.style.use('ggplot')\n",
    "plt.bar(df_top['state'], df_top['total cases'])\n",
    "plt.xlabel(\"States\")\n",
    "plt.ylabel(\"Cases\")\n",
    "plt.title(\"List of states with highest positive cases\")\n",
    "#plt.savefig('top.png')\n",
    "plt.show()"
   ]
  },
  {
   "cell_type": "code",
   "execution_count": null,
   "metadata": {},
   "outputs": [],
   "source": [
    "df=df.round(2)"
   ]
  },
  {
   "cell_type": "markdown",
   "metadata": {},
   "source": [
    "## Analysis &  Observations"
   ]
  },
  {
   "cell_type": "markdown",
   "metadata": {},
   "source": [
    "### Visualizing Trends of Mobility"
   ]
  },
  {
   "cell_type": "markdown",
   "metadata": {},
   "source": [
    "We are visualising the trends of mobility during COVID19 to different public places using the graphs plotted using the plotly library. Hovering on each individual states gives the mobility figure of that particular states. States with  darker colours indicate the mobility is high and as the color intensity decrease, it indicates the states with low mobility than that of baseline.\n",
    "\n",
    "As part of implementation of these graphs we need to install following two libraries namely <b> plotly </b> and <b> chart_studio</b>"
   ]
  },
  {
   "cell_type": "code",
   "execution_count": null,
   "metadata": {},
   "outputs": [],
   "source": [
    "#pip install plotly"
   ]
  },
  {
   "cell_type": "code",
   "execution_count": null,
   "metadata": {},
   "outputs": [],
   "source": [
    "#pip install chart_studio"
   ]
  },
  {
   "cell_type": "code",
   "execution_count": null,
   "metadata": {},
   "outputs": [],
   "source": [
    "import chart_studio.plotly as py\n",
    "import plotly.graph_objects as go\n",
    "import plotly.graph_objs as go\n",
    "import pandas as pd\n",
    "from plotly.offline import download_plotlyjs, init_notebook_mode, plot, iplot\n",
    "import sys\n",
    "if not sys.warnoptions:\n",
    "    import warnings\n",
    "    warnings.simplefilter(\"ignore\")"
   ]
  },
  {
   "cell_type": "markdown",
   "metadata": {},
   "source": [
    "### Total Number of positive cases - statewise"
   ]
  },
  {
   "cell_type": "code",
   "execution_count": null,
   "metadata": {},
   "outputs": [],
   "source": [
    "data = dict(type='choropleth',\n",
    "            locations = df['state'],\n",
    "            locationmode = 'USA-states',\n",
    "            colorscale = 'Reds',\n",
    "            text = df['state'],\n",
    "            z = df['total cases'],\n",
    "            colorbar = {'title':\"cases Count\"},\n",
    "        \n",
    "            )\n",
    "\n",
    "layout = dict(title = 'Total number of cases across states',\n",
    "              geo = dict(scope='usa')\n",
    "           )\n",
    "\n",
    "choromap = go.Figure(data = [data],layout = layout)\n",
    "iplot(choromap)"
   ]
  },
  {
   "cell_type": "markdown",
   "metadata": {},
   "source": [
    "The above graph shows the total number of COVID positive cases. States with dark color have more number of cases and it decreases as the intensity of color decreases. We can clearly say that states like California,Texas,Florida have very large number of cases. On other hand, states in the central part of America have less number of states comparatively  "
   ]
  },
  {
   "cell_type": "code",
   "execution_count": null,
   "metadata": {},
   "outputs": [],
   "source": [
    "df=round(df,2)"
   ]
  },
  {
   "cell_type": "code",
   "execution_count": null,
   "metadata": {},
   "outputs": [],
   "source": [
    "df.loc[df['Red/Blue'] == 'red', 'state_color'] = '2'\n",
    "df.loc[df['Red/Blue'] == 'blue', 'state_color'] = '1'\n",
    "df = df.sort_values(by = 'Red/Blue')\n"
   ]
  },
  {
   "cell_type": "markdown",
   "metadata": {},
   "source": [
    "# Summary of Mobility Trends in Red Blue states\n",
    "\n",
    "\n",
    "The below graph provides the complete analysis with number of cases and trend of mobility in each of the 50 states by hovering on the respective state. The states in Red are won by the Republicans and Blue represents states won by the Democrats. This graph helps to analyse how the election campaign as impacted on the mobility of people.\n",
    "\n",
    "- States in Red - Republican states\n",
    "\n",
    "- States in Blue - Democrat states"
   ]
  },
  {
   "cell_type": "code",
   "execution_count": null,
   "metadata": {},
   "outputs": [],
   "source": [
    "import plotly.express as px\n",
    "\n",
    "fig = px.choropleth(df, locations=df['state'], hover_data=['state_name','total cases','parks','retail_and_recreation','workplaces','grocery_and_pharmacy','residential'],locationmode=\"USA-states\",color=df['state_color'], scope=\"usa\")\n",
    "\n",
    "fig.show()"
   ]
  },
  {
   "cell_type": "markdown",
   "metadata": {},
   "source": [
    "## Plots for change in mobility to different public places\n",
    "\n",
    "\n",
    "We are visualising the trends of mobility in each of six different public places. Hovering on each individual states gives the mobility figure of that particular states. States with darker color indicate the mobility is high and as the color intensity decrease, it indicates that these states are with lower mobility to that of baseline."
   ]
  },
  {
   "cell_type": "markdown",
   "metadata": {},
   "source": [
    "#### 1. workplaces"
   ]
  },
  {
   "cell_type": "code",
   "execution_count": null,
   "metadata": {},
   "outputs": [],
   "source": [
    "data = dict(type='choropleth',\n",
    "            locations = df['state'],\n",
    "            locationmode = 'USA-states',\n",
    "            colorscale = 'Reds',\n",
    "            text = df['state'],\n",
    "            z = df['workplaces'],\n",
    "            colorbar = {'title':\"cases Count\"},\n",
    "           # hover_data =df['parks']\n",
    "            )\n",
    "\n",
    "layout = dict(title = 'Mobility to workplaces',\n",
    "              geo = dict(scope='usa')\n",
    "           )\n",
    "\n",
    "choromap = go.Figure(data = [data],layout = layout)\n",
    "iplot(choromap)\n",
    "#fig.show()"
   ]
  },
  {
   "cell_type": "code",
   "execution_count": null,
   "metadata": {},
   "outputs": [],
   "source": [
    "data = dict(type='choropleth',\n",
    "            locations = df['state'],\n",
    "            locationmode = 'USA-states',\n",
    "            colorscale = 'Reds',\n",
    "            text = df['state'],\n",
    "            z = df['transit_stations'],\n",
    "            colorbar = {'title':\"Mobility\"},\n",
    "           # hover_data =df['parks']\n",
    "            )\n",
    "\n",
    "layout = dict(title = 'Mobility to transit_stations',\n",
    "              geo = dict(scope='usa')\n",
    "           )\n",
    "\n",
    "choromap = go.Figure(data = [data],layout = layout)\n",
    "iplot(choromap)"
   ]
  },
  {
   "cell_type": "markdown",
   "metadata": {},
   "source": [
    "#### 3. parks"
   ]
  },
  {
   "cell_type": "code",
   "execution_count": null,
   "metadata": {},
   "outputs": [],
   "source": [
    "data = dict(type='choropleth',\n",
    "            locations = df['state'],\n",
    "            locationmode = 'USA-states',\n",
    "            colorscale = 'Reds',\n",
    "            text = df['state'],\n",
    "            z = df['parks'],\n",
    "            colorbar = {'title':\"Mobility\"},\n",
    "           # hover_data =df['parks']\n",
    "            )\n",
    "\n",
    "layout = dict(title = 'Mobility to parks',\n",
    "              geo = dict(scope='usa')\n",
    "           )\n",
    "\n",
    "choromap = go.Figure(data = [data],layout = layout)\n",
    "iplot(choromap)"
   ]
  },
  {
   "cell_type": "markdown",
   "metadata": {},
   "source": [
    "#### 4. retail_and_recreation"
   ]
  },
  {
   "cell_type": "code",
   "execution_count": null,
   "metadata": {},
   "outputs": [],
   "source": [
    "data = dict(type='choropleth',\n",
    "            locations = df['state'],\n",
    "            locationmode = 'USA-states',\n",
    "            colorscale = 'Reds',\n",
    "            text = df['state'],\n",
    "            z = df['retail_and_recreation'],\n",
    "            colorbar = {'title':\"Mobility\"},\n",
    "           # hover_data =df['parks']\n",
    "            )\n",
    "\n",
    "layout = dict(title = 'Mobility to retail_and_recreation',\n",
    "              geo = dict(scope='usa')\n",
    "           )\n",
    "\n",
    "choromap = go.Figure(data = [data],layout = layout)\n",
    "iplot(choromap)"
   ]
  },
  {
   "cell_type": "markdown",
   "metadata": {},
   "source": [
    "#### 5. grocery_and_pharmacy"
   ]
  },
  {
   "cell_type": "code",
   "execution_count": null,
   "metadata": {},
   "outputs": [],
   "source": [
    "data = dict(type='choropleth',\n",
    "            locations = df['state'],\n",
    "            locationmode = 'USA-states',\n",
    "            colorscale = 'Blues',\n",
    "            text = df['state'],\n",
    "            z = df['grocery_and_pharmacy'],\n",
    "            colorbar = {'title':\"Mobility\"},\n",
    "           # hover_data =df['parks']\n",
    "            )\n",
    "\n",
    "layout = dict(title = 'Mobility to grocery_and_pharmacy',\n",
    "              geo = dict(scope='usa')\n",
    "           )\n",
    "\n",
    "choromap = go.Figure(data = [data],layout = layout)\n",
    "iplot(choromap)"
   ]
  },
  {
   "cell_type": "markdown",
   "metadata": {},
   "source": [
    "#### 5. residential"
   ]
  },
  {
   "cell_type": "code",
   "execution_count": null,
   "metadata": {},
   "outputs": [],
   "source": [
    "data = dict(type='choropleth',\n",
    "            locations = df['state'],\n",
    "            locationmode = 'USA-states',\n",
    "            colorscale = 'Blues',\n",
    "            text = df['residential'],\n",
    "            z = df['residential'],\n",
    "            colorbar = {'title':\"Mobility\"},\n",
    "           # hover_data =df['parks']\n",
    "            )\n",
    "\n",
    "layout = dict(title = 'Mobility to residential places',\n",
    "              geo = dict(scope='usa')\n",
    "           )\n",
    "\n",
    "choromap = go.Figure(data = [data],layout = layout)\n",
    "iplot(choromap)"
   ]
  },
  {
   "cell_type": "markdown",
   "metadata": {},
   "source": [
    "### Finding average change in mobility across the states"
   ]
  },
  {
   "cell_type": "code",
   "execution_count": null,
   "metadata": {},
   "outputs": [],
   "source": [
    "df_filtered=df[['transit_stations','parks','retail_and_recreation','workplaces','grocery_and_pharmacy','residential']]\n",
    "df_filtered['avg_drop']=(df_filtered['transit_stations']+df['parks']+df['retail_and_recreation']+df['workplaces']+df['grocery_and_pharmacy']+df['residential'])/6"
   ]
  },
  {
   "cell_type": "code",
   "execution_count": null,
   "metadata": {},
   "outputs": [],
   "source": [
    "df_filtered=round(df_filtered,2)"
   ]
  },
  {
   "cell_type": "code",
   "execution_count": null,
   "metadata": {},
   "outputs": [],
   "source": [
    "data = dict(type='choropleth',\n",
    "            locations = df['state'],\n",
    "            locationmode = 'USA-states',\n",
    "            colorscale = 'Blues',\n",
    "            text = df['state'],\n",
    "            z = df_filtered['avg_drop'],\n",
    "            colorbar = {'title':\"Mobility\"},\n",
    "           # hover_data =df['parks']\n",
    "            )\n",
    "\n",
    "layout = dict(title = 'Average change in mobility to all six public places',\n",
    "              geo = dict(scope='usa')\n",
    "           )\n",
    "choromap = go.Figure(data = [data],layout = layout)\n",
    "iplot(choromap)"
   ]
  },
  {
   "cell_type": "markdown",
   "metadata": {},
   "source": [
    "### Mobility trend in all 50 states (Red and Blue states)"
   ]
  },
  {
   "cell_type": "code",
   "execution_count": null,
   "metadata": {},
   "outputs": [],
   "source": [
    "from matplotlib.pyplot import figure\n",
    "\n",
    "\n",
    "fig, ax = plt.subplots(figsize=(8,16))\n",
    "df_filtered['avg_drop'].plot(kind='barh',color = df['Red/Blue'], legend = False, ax=ax)\n",
    "\n",
    "ax.set_xlabel('Change in mobility')\n",
    "ax.set_ylabel('States')\n",
    "\n",
    "#fig.savefig(\"barh.png\")\n",
    "\n",
    "                 "
   ]
  },
  {
   "cell_type": "code",
   "execution_count": null,
   "metadata": {},
   "outputs": [],
   "source": [
    "df_places=round(df.describe().T,2)\n",
    "df_places"
   ]
  },
  {
   "cell_type": "code",
   "execution_count": null,
   "metadata": {},
   "outputs": [],
   "source": [
    "df_filtered=df_filtered.sort_values('iso_code')\n",
    "df_filtered['state']=state_name\n",
    "df_filtered['Red/Blue']=df.sort_values('iso_code')['Red/Blue']\n",
    "df_filtered=df_filtered.sort_values('avg_drop')\n",
    "df_filtered_top=df_filtered.head(5)\n",
    "df_filtered_bottom=df_filtered.tail(5)"
   ]
  },
  {
   "cell_type": "code",
   "execution_count": null,
   "metadata": {},
   "outputs": [],
   "source": [
    "df_filtered_bottom"
   ]
  },
  {
   "cell_type": "markdown",
   "metadata": {},
   "source": [
    "### Top and Bottom 5 states in mobility change"
   ]
  },
  {
   "cell_type": "code",
   "execution_count": null,
   "metadata": {},
   "outputs": [],
   "source": [
    "import matplotlib.pyplot as plt\n",
    "%matplotlib inline\n",
    "plt.style.use('ggplot')\n",
    "plt.bar(df_filtered_top['state'], df_filtered_top['avg_drop'],color=df_filtered_top['Red/Blue'])\n",
    "plt.xlabel(\"States\")\n",
    "plt.ylabel(\"Cases\")\n",
    "plt.title(\"List of states with highest drop in mobility\")\n",
    "#plt.savefig('highdrop.png')\n",
    "plt.show()"
   ]
  },
  {
   "cell_type": "code",
   "execution_count": null,
   "metadata": {},
   "outputs": [],
   "source": [
    "import matplotlib.pyplot as plt\n",
    "%matplotlib inline\n",
    "plt.style.use('ggplot')\n",
    "plt.bar(df_filtered_bottom['state'], df_filtered_bottom['avg_drop'],color=df_filtered_bottom['Red/Blue'])\n",
    "plt.xlabel(\"States\")\n",
    "plt.ylabel(\"Cases\")\n",
    "plt.title(\"List of states with lowest drop in mobility\")\n",
    "#plt.savefig('lowdrop.png')\n",
    "plt.show()"
   ]
  },
  {
   "cell_type": "markdown",
   "metadata": {},
   "source": [
    "## Summary\n",
    "\n",
    "The project focuses on performing Exploratory Data Analysis on the Community Mobility Reports data provided by Google during the pandemic period. We analyze how the mobility of people to various popular public places has changed with respect to the number of covid cases registered and extract various insights such as how the visits and duration of stay at different places changed compared to a baseline. After we have performed our analysis on the mobility dataset we have got to following conclusions. \n",
    "\n",
    "- The mobility of cases has dropped mostly in Blue states and the mobility increased in Red states. \n",
    "- There is huge amount of mobility drop in the states like Washington DC , Hawaii and Florida.\n",
    "- We can understand that as these states are mostly visited by Tourist, due to the pandemic there is huge drop in mobility in such places.\n",
    "- On another hand there is no much decrease in the mobility of people in the states like Idaho,Wisconsin,Wyoming and South Dakota.\n",
    "- We can observe that these states are mostly the mid central states which are not affected by the COVID'19 much.\n",
    "\n",
    "\n",
    "\n",
    "#### What was unique about the data?  Did you have to deal with imbalance? What data cleaning did you do? \n",
    "\n",
    "We have combined the covid-19 community mobility dataset and the covid-19 cases dataset from February to November to get the required results and there was a lot of imbalance between the two datasets and  We have 2 different data types and they are numeric and categorical. We have a column \"Date\" which is of data type object and we converted it to date type. Also removed unwanted extra columns this includes duplicate or irrelevant observations which are not useful for our analysis for example in feature selection we have data corresponding to each county within the state and as we concentrated more on state-wise data we dropped the county wise data. We had many missing values in the datasets which we cannot ignore missing values in our dataset, So we have dropped some observations and have replaced some with the 0. We have also observed that there are outliers in all places.\n",
    "#### Did you create any new additional features / variables?\n",
    "\n",
    "We have added new columns 'new_cases', cases_percent' of df_cases1 to df_mobility dataset.\n",
    "\n",
    "#### What was the process you used for evaluation?  What was the best result?\n",
    "\n",
    "We used exploratory data analysis to analyze the mobility trends of different places across all the US states, we observed that mobility has dropped to a greater extent in retail and recreation, transit_stations, and workplaces. We used a heatmap to show the correlation between the columns of the mobility dataset. Histogram plots show us the number of cases in different states and also states with the highest positive cases wrt to the population of the state.We used plotly and chart_studio library to analyze the mobility trends in different places with hovering on the states. States with darker colors indicate the mobility is high and as the color intensity decrease, it indicates the states with low mobility than that of baseline"
   ]
  },
  {
   "cell_type": "markdown",
   "metadata": {},
   "source": [
    "### Future work\n",
    "\n",
    "In our current project we have performed our analysis just to state level in the US, as part of future work we can extend this model to county level. The county level analysis gives more accurate results with more possible insights. As we are dealing with timeseries data including the counties would have become more extensive data and we may have required more time\n"
   ]
  },
  {
   "cell_type": "markdown",
   "metadata": {},
   "source": [
    "## Conclusion\n",
    "\n",
    "We used exploratory data analysis to analyze the mobility trends of different places across all the US states, we observed that mobility has dropped to a greater extent in retail and recreation, transit_stations and workplaces. We used heatmap to show the correlation between the columns of mobility dataset. Histogram plots show us the number of cases in different states and also states with highest positive cases wrt to the state’s population.\n",
    "\n",
    "We are visualizing the trends of mobility during COVID19 to different public places using the graphs plotted using the plotly library. Hovering on each individual state gives the statistics such as the totoal number of positive cases, change in mobility to 6 mentioned public places. States with darker colors indicate the mobility is high and as the color intensity decrease, it indicates the states with low mobility than that of baseline. As part of implementation of these graphs we need to install following two libraries namely plotly and chart_studio"
   ]
  },
  {
   "cell_type": "markdown",
   "metadata": {},
   "source": [
    " \n",
    "## References:  \n",
    " \n",
    "1. https://www.google.com/covid19/mobility/\n",
    " \n",
    "2. https://www.gstatic.com/covid19/mobility/2020-11-13_US_Mobility_Report_en.pdf\n",
    "\n",
    "3. https://docs.oracle.com/cd/E11882_01/datamine.112/e16808/algo_apriori.htm#DMCON287\n",
    "\n",
    "4. https://plotly.com/python/choropleth-maps/\n",
    "\n",
    "5. https://matplotlib.org/gallery/index.html#event-handling"
   ]
  },
  {
   "cell_type": "code",
   "execution_count": null,
   "metadata": {},
   "outputs": [],
   "source": []
  }
 ],
 "metadata": {
  "colab": {
   "name": "Draft KDD Project",
   "provenance": []
  },
  "kernelspec": {
   "display_name": "Python 3",
   "language": "python",
   "name": "python3"
  },
  "language_info": {
   "codemirror_mode": {
    "name": "ipython",
    "version": 3
   },
   "file_extension": ".py",
   "mimetype": "text/x-python",
   "name": "python",
   "nbconvert_exporter": "python",
   "pygments_lexer": "ipython3",
   "version": "3.8.3"
  }
 },
 "nbformat": 4,
 "nbformat_minor": 1
}
